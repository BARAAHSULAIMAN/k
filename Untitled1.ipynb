{
  "nbformat": 4,
  "nbformat_minor": 0,
  "metadata": {
    "colab": {
      "provenance": []
    },
    "kernelspec": {
      "name": "python3",
      "display_name": "Python 3"
    },
    "language_info": {
      "name": "python"
    }
  },
  "cells": [
    {
      "cell_type": "code",
      "execution_count": 1,
      "metadata": {
        "id": "BizjmI4ULpZN",
        "colab": {
          "base_uri": "https://localhost:8080/"
        },
        "outputId": "eafdd018-018e-4018-8999-d25ff81b0f1b"
      },
      "outputs": [
        {
          "output_type": "stream",
          "name": "stdout",
          "text": [
            "Mounted at /content/drive\n"
          ]
        }
      ],
      "source": [
        "#My dataset is available in googledrive; so I am accessing my drive from colab\n",
        "from google.colab import drive\n",
        "drive.mount('/content/drive', force_remount=True)\n",
        "#Once this is executed, you will see your drive appearing on the left hand side"
      ]
    },
    {
      "cell_type": "code",
      "source": [
        "# Define paths to the dataset\n",
        "train_dir = '/content/drive/MyDrive/train'  # Update with your actual path\n",
        "test_dir = '/content/drive/MyDrive/test'    # Update with your actual path"
      ],
      "metadata": {
        "id": "jW-kT1q2S8e7"
      },
      "execution_count": 2,
      "outputs": []
    },
    {
      "cell_type": "code",
      "source": [
        "import os\n",
        "print(len(os.listdir('/content/drive/MyDrive/train/pizza')))\n",
        "print(len(os.listdir('/content/drive/MyDrive/train/not_pizza')))\n",
        "print(len(os.listdir('/content/drive/MyDrive/test/pizza')))\n",
        "print(len(os.listdir('/content/drive/MyDrive/test/not_pizza')))"
      ],
      "metadata": {
        "colab": {
          "base_uri": "https://localhost:8080/"
        },
        "id": "Sv28vhrRTHDP",
        "outputId": "593b0bd5-84ec-4c94-dfd1-4f0041ef1415"
      },
      "execution_count": 3,
      "outputs": [
        {
          "output_type": "stream",
          "name": "stdout",
          "text": [
            "800\n",
            "800\n",
            "183\n",
            "183\n"
          ]
        }
      ]
    },
    {
      "cell_type": "code",
      "source": [
        "import tensorflow as tf\n",
        "from tensorflow.keras.preprocessing.image import ImageDataGenerator\n",
        "\n",
        "# Create ImageDataGenerator for training set\n",
        "train_datagen = ImageDataGenerator(\n",
        "    rescale=1./255,\n",
        "    validation_split=0.2  # Split 20% of the images for validation\n",
        ")\n",
        "\n",
        "# Load and prepare training data\n",
        "train_data = train_datagen.flow_from_directory(\n",
        "    train_dir,\n",
        "    target_size=(256,256),\n",
        "    batch_size=32,\n",
        "    class_mode='binary',  # 'binary' for binary classification (pizza vs. not_pizza)\n",
        "    subset='training'  # Specify 'training' for the training set\n",
        ")\n",
        "\n",
        "# Create ImageDataGenerator for validation set\n",
        "validation_datagen = ImageDataGenerator(\n",
        "    rescale=1./255,\n",
        "    validation_split=0.2  # Note: Using the same validation split as in the training set\n",
        ")\n",
        "\n",
        "# Load and prepare validation data\n",
        "validation_data = validation_datagen.flow_from_directory(\n",
        "    train_dir,\n",
        "    target_size=(256,256),\n",
        "    batch_size=32,\n",
        "    class_mode='binary',\n",
        "    subset='validation'  # Specify 'validation' for the validation set\n",
        ")"
      ],
      "metadata": {
        "colab": {
          "base_uri": "https://localhost:8080/"
        },
        "id": "yFW-y7BkTlXj",
        "outputId": "9461002c-0b22-4a51-96ff-7756965adbe0"
      },
      "execution_count": 17,
      "outputs": [
        {
          "output_type": "stream",
          "name": "stdout",
          "text": [
            "Found 1280 images belonging to 2 classes.\n",
            "Found 320 images belonging to 2 classes.\n"
          ]
        }
      ]
    },
    {
      "cell_type": "code",
      "source": [
        "from tensorflow import keras\n",
        "from keras import Sequential\n",
        "from keras.layers import Dense,Conv2D,MaxPooling2D,Flatten\n",
        "\n",
        "resnet_model = Sequential()    #ResNet50 is a pre-trained model\n",
        "pretrained_model = tf.keras.applications.ResNet50(include_top = False, #because i have my own image of a diff dimension\n",
        "                                                input_shape = (256,256,3),\n",
        "                                                pooling = 'max', classes = 2,\n",
        "                                                weights = 'imagenet')\n",
        "for layer in pretrained_model.layers:\n",
        "    layer.trainable = False  #all layers in the Resnet50 is not trainable; keep those weights; I am going to add my own i/p and other layers\n",
        "\n",
        "resnet_model.add(pretrained_model)\n",
        "resnet_model.add(Flatten())\n",
        "resnet_model.add(Dense(512, activation = 'relu'))\n",
        "resnet_model.add(Dense(1, activation = 'sigmoid'))"
      ],
      "metadata": {
        "id": "xi2ugwkoTtsd"
      },
      "execution_count": 7,
      "outputs": []
    },
    {
      "cell_type": "code",
      "source": [
        "resnet_model.summary()"
      ],
      "metadata": {
        "colab": {
          "base_uri": "https://localhost:8080/"
        },
        "id": "1ShyvtgOUdBm",
        "outputId": "f624083d-add6-4802-db75-02e8ea07eb40"
      },
      "execution_count": 8,
      "outputs": [
        {
          "output_type": "stream",
          "name": "stdout",
          "text": [
            "Model: \"sequential_1\"\n",
            "_________________________________________________________________\n",
            " Layer (type)                Output Shape              Param #   \n",
            "=================================================================\n",
            " resnet50 (Functional)       (None, 2048)              23587712  \n",
            "                                                                 \n",
            " flatten_1 (Flatten)         (None, 2048)              0         \n",
            "                                                                 \n",
            " dense_2 (Dense)             (None, 512)               1049088   \n",
            "                                                                 \n",
            " dense_3 (Dense)             (None, 1)                 513       \n",
            "                                                                 \n",
            "=================================================================\n",
            "Total params: 24637313 (93.98 MB)\n",
            "Trainable params: 1049601 (4.00 MB)\n",
            "Non-trainable params: 23587712 (89.98 MB)\n",
            "_________________________________________________________________\n"
          ]
        }
      ]
    },
    {
      "cell_type": "code",
      "source": [
        "from keras.optimizers import Adam\n",
        "resnet_model.compile(optimizer=Adam(learning_rate=0.001),loss='binary_crossentropy',metrics=['accuracy']) #binary_crossentropy - binary classification"
      ],
      "metadata": {
        "id": "kmZQuTTKUiJg"
      },
      "execution_count": 9,
      "outputs": []
    },
    {
      "cell_type": "code",
      "source": [
        "history = resnet_model.fit(train_data, epochs=3, validation_data=validation_data)"
      ],
      "metadata": {
        "colab": {
          "base_uri": "https://localhost:8080/"
        },
        "id": "v4vzEx0KVT_z",
        "outputId": "2b7b858f-20b0-4673-c81a-22e4401c7adf"
      },
      "execution_count": 10,
      "outputs": [
        {
          "output_type": "stream",
          "name": "stdout",
          "text": [
            "Epoch 1/3\n",
            "40/40 [==============================] - 430s 11s/step - loss: 2.4869 - accuracy: 0.5125 - val_loss: 0.8214 - val_accuracy: 0.5344\n",
            "Epoch 2/3\n",
            "40/40 [==============================] - 484s 12s/step - loss: 0.6849 - accuracy: 0.6219 - val_loss: 0.6440 - val_accuracy: 0.5813\n",
            "Epoch 3/3\n",
            "40/40 [==============================] - 424s 10s/step - loss: 0.6313 - accuracy: 0.6539 - val_loss: 0.5989 - val_accuracy: 0.6594\n"
          ]
        }
      ]
    },
    {
      "cell_type": "code",
      "source": [
        "import matplotlib.pyplot as plt\n",
        "\n",
        "plt.plot(history.history['accuracy'],color='red',label='train')\n",
        "plt.plot(history.history['val_accuracy'],color='blue',label='validation')\n",
        "plt.legend()\n",
        "plt.show()"
      ],
      "metadata": {
        "colab": {
          "base_uri": "https://localhost:8080/",
          "height": 430
        },
        "id": "mDUABqyKbF7N",
        "outputId": "af1af17e-aa6b-4037-e897-7c2ffabb9111"
      },
      "execution_count": 11,
      "outputs": [
        {
          "output_type": "display_data",
          "data": {
            "text/plain": [
              "<Figure size 640x480 with 1 Axes>"
            ],
            "image/png": "[encoded data removed]"
          },
          "metadata": {}
        }
      ]
    },
    {
      "cell_type": "code",
      "source": [
        "plt.plot(history.history['loss'],color='red',label='train')\n",
        "plt.plot(history.history['val_loss'],color='blue',label='validation')\n",
        "plt.legend()\n",
        "plt.show()"
      ],
      "metadata": {
        "colab": {
          "base_uri": "https://localhost:8080/",
          "height": 430
        },
        "id": "0Ivb3_5jbMXF",
        "outputId": "f16c6a98-e713-4054-ee9f-6c71e9c3d59e"
      },
      "execution_count": 12,
      "outputs": [
        {
          "output_type": "display_data",
          "data": {
            "text/plain": [
              "<Figure size 640x480 with 1 Axes>"
            ],
            "image/png": "[encoded data removed]"
          },
          "metadata": {}
        }
      ]
    },
    {
      "cell_type": "code",
      "source": [
        "test_datagen = ImageDataGenerator(rescale=1./255)\n",
        "test_data = test_datagen.flow_from_directory(\n",
        "    test_dir,\n",
        "    target_size=(256,256),\n",
        "    batch_size=32,\n",
        "    class_mode='binary'\n",
        ")"
      ],
      "metadata": {
        "colab": {
          "base_uri": "https://localhost:8080/"
        },
        "id": "yPBhQ7LLbT7B",
        "outputId": "93b93696-17cc-4d4f-9f12-d6a82fdd53e1"
      },
      "execution_count": 13,
      "outputs": [
        {
          "output_type": "stream",
          "name": "stdout",
          "text": [
            "Found 366 images belonging to 2 classes.\n"
          ]
        }
      ]
    },
    {
      "cell_type": "code",
      "source": [
        "#predict the test data\n",
        "predictions = resnet_model.predict(test_data)\n",
        "print(predictions)"
      ],
      "metadata": {
        "colab": {
          "base_uri": "https://localhost:8080/"
        },
        "id": "6xU47jucbfde",
        "outputId": "3d3b0866-ff58-47ea-8b5e-bdbe1f8bf6dd"
      },
      "execution_count": 14,
      "outputs": [
        {
          "output_type": "stream",
          "name": "stdout",
          "text": [
            "12/12 [==============================] - 98s 8s/step\n",
            "[[0.67700267]\n",
            " [0.4415574 ]\n",
            " [0.62354624]\n",
            " [0.6310416 ]\n",
            " [0.26945907]\n",
            " [0.49828628]\n",
            " [0.5480624 ]\n",
            " [0.6915967 ]\n",
            " [0.39950958]\n",
            " [0.6572371 ]\n",
            " [0.39358133]\n",
            " [0.69762844]\n",
            " [0.37006056]\n",
            " [0.5620748 ]\n",
            " [0.39245516]\n",
            " [0.5913793 ]\n",
            " [0.8167346 ]\n",
            " [0.45425966]\n",
            " [0.34921402]\n",
            " [0.48624182]\n",
            " [0.4731127 ]\n",
            " [0.22205882]\n",
            " [0.59650075]\n",
            " [0.41605464]\n",
            " [0.27424034]\n",
            " [0.84303284]\n",
            " [0.40245363]\n",
            " [0.7804479 ]\n",
            " [0.5151575 ]\n",
            " [0.64433503]\n",
            " [0.5807196 ]\n",
            " [0.31666395]\n",
            " [0.54801303]\n",
            " [0.49280065]\n",
            " [0.7762916 ]\n",
            " [0.5235038 ]\n",
            " [0.47878277]\n",
            " [0.4804172 ]\n",
            " [0.29069638]\n",
            " [0.7247914 ]\n",
            " [0.6113266 ]\n",
            " [0.35641298]\n",
            " [0.7033234 ]\n",
            " [0.5692133 ]\n",
            " [0.47696263]\n",
            " [0.70220065]\n",
            " [0.13950643]\n",
            " [0.88197225]\n",
            " [0.71304953]\n",
            " [0.10952269]\n",
            " [0.628846  ]\n",
            " [0.44916764]\n",
            " [0.3382871 ]\n",
            " [0.36952752]\n",
            " [0.66429627]\n",
            " [0.41023836]\n",
            " [0.54731524]\n",
            " [0.5514578 ]\n",
            " [0.6028703 ]\n",
            " [0.73581696]\n",
            " [0.821883  ]\n",
            " [0.18953355]\n",
            " [0.3567941 ]\n",
            " [0.39289832]\n",
            " [0.63292384]\n",
            " [0.5337057 ]\n",
            " [0.42604357]\n",
            " [0.4649276 ]\n",
            " [0.7325679 ]\n",
            " [0.51322883]\n",
            " [0.40847242]\n",
            " [0.5342331 ]\n",
            " [0.43604887]\n",
            " [0.46592104]\n",
            " [0.89003474]\n",
            " [0.6603981 ]\n",
            " [0.6204534 ]\n",
            " [0.5000572 ]\n",
            " [0.76889783]\n",
            " [0.60302794]\n",
            " [0.40105957]\n",
            " [0.60703474]\n",
            " [0.5029174 ]\n",
            " [0.77319473]\n",
            " [0.47988614]\n",
            " [0.11141403]\n",
            " [0.6657233 ]\n",
            " [0.1808965 ]\n",
            " [0.6267447 ]\n",
            " [0.43366045]\n",
            " [0.48330963]\n",
            " [0.61426675]\n",
            " [0.53487545]\n",
            " [0.66163063]\n",
            " [0.70442533]\n",
            " [0.6825786 ]\n",
            " [0.64939344]\n",
            " [0.6216148 ]\n",
            " [0.34486762]\n",
            " [0.45446566]\n",
            " [0.76755995]\n",
            " [0.49156   ]\n",
            " [0.3946659 ]\n",
            " [0.38608187]\n",
            " [0.756527  ]\n",
            " [0.6597152 ]\n",
            " [0.3768235 ]\n",
            " [0.39264762]\n",
            " [0.43863335]\n",
            " [0.7117917 ]\n",
            " [0.47768283]\n",
            " [0.2928597 ]\n",
            " [0.41481498]\n",
            " [0.70947105]\n",
            " [0.62213993]\n",
            " [0.48074844]\n",
            " [0.28492016]\n",
            " [0.52886385]\n",
            " [0.4432017 ]\n",
            " [0.17001496]\n",
            " [0.33545142]\n",
            " [0.6002566 ]\n",
            " [0.69153154]\n",
            " [0.5230203 ]\n",
            " [0.34568152]\n",
            " [0.36652312]\n",
            " [0.7755224 ]\n",
            " [0.59403163]\n",
            " [0.6263199 ]\n",
            " [0.484131  ]\n",
            " [0.55039954]\n",
            " [0.5729165 ]\n",
            " [0.47305816]\n",
            " [0.56198215]\n",
            " [0.31534776]\n",
            " [0.8544517 ]\n",
            " [0.452865  ]\n",
            " [0.68673086]\n",
            " [0.4161191 ]\n",
            " [0.48634928]\n",
            " [0.7814373 ]\n",
            " [0.3300971 ]\n",
            " [0.38979876]\n",
            " [0.56989247]\n",
            " [0.81430596]\n",
            " [0.44545743]\n",
            " [0.5852337 ]\n",
            " [0.7322617 ]\n",
            " [0.6753863 ]\n",
            " [0.27708435]\n",
            " [0.47463536]\n",
            " [0.3568155 ]\n",
            " [0.75374156]\n",
            " [0.44507235]\n",
            " [0.5277917 ]\n",
            " [0.5976872 ]\n",
            " [0.58484936]\n",
            " [0.6477242 ]\n",
            " [0.85582167]\n",
            " [0.54136723]\n",
            " [0.38301003]\n",
            " [0.14718197]\n",
            " [0.38573852]\n",
            " [0.45319209]\n",
            " [0.68307555]\n",
            " [0.47274083]\n",
            " [0.29585847]\n",
            " [0.8220279 ]\n",
            " [0.44538397]\n",
            " [0.54723996]\n",
            " [0.47795144]\n",
            " [0.6368519 ]\n",
            " [0.5251722 ]\n",
            " [0.26123852]\n",
            " [0.188987  ]\n",
            " [0.88084483]\n",
            " [0.4900165 ]\n",
            " [0.7575916 ]\n",
            " [0.5163009 ]\n",
            " [0.39521447]\n",
            " [0.82925916]\n",
            " [0.44739357]\n",
            " [0.93745375]\n",
            " [0.48929352]\n",
            " [0.51478887]\n",
            " [0.42038503]\n",
            " [0.6589    ]\n",
            " [0.6697351 ]\n",
            " [0.5953593 ]\n",
            " [0.68869203]\n",
            " [0.8370399 ]\n",
            " [0.6410899 ]\n",
            " [0.5319823 ]\n",
            " [0.4328557 ]\n",
            " [0.6465568 ]\n",
            " [0.7683632 ]\n",
            " [0.7222013 ]\n",
            " [0.8614681 ]\n",
            " [0.8380925 ]\n",
            " [0.4743579 ]\n",
            " [0.82000726]\n",
            " [0.43279082]\n",
            " [0.24798574]\n",
            " [0.59676254]\n",
            " [0.30969307]\n",
            " [0.44281766]\n",
            " [0.3639693 ]\n",
            " [0.5951398 ]\n",
            " [0.3881381 ]\n",
            " [0.36877534]\n",
            " [0.69210553]\n",
            " [0.5898957 ]\n",
            " [0.36514723]\n",
            " [0.34603363]\n",
            " [0.52198184]\n",
            " [0.38655493]\n",
            " [0.30450282]\n",
            " [0.5700276 ]\n",
            " [0.61485726]\n",
            " [0.68561316]\n",
            " [0.12269316]\n",
            " [0.6023263 ]\n",
            " [0.6397488 ]\n",
            " [0.73271936]\n",
            " [0.58267355]\n",
            " [0.6787204 ]\n",
            " [0.4727565 ]\n",
            " [0.46390343]\n",
            " [0.3956104 ]\n",
            " [0.72204334]\n",
            " [0.26645434]\n",
            " [0.3232992 ]\n",
            " [0.47404125]\n",
            " [0.3170128 ]\n",
            " [0.44409087]\n",
            " [0.6837727 ]\n",
            " [0.6922295 ]\n",
            " [0.5493048 ]\n",
            " [0.5266196 ]\n",
            " [0.54282826]\n",
            " [0.64318025]\n",
            " [0.57183814]\n",
            " [0.8538247 ]\n",
            " [0.38592973]\n",
            " [0.33173722]\n",
            " [0.24457052]\n",
            " [0.08573688]\n",
            " [0.49451563]\n",
            " [0.58239883]\n",
            " [0.33429167]\n",
            " [0.02638368]\n",
            " [0.44038317]\n",
            " [0.5371773 ]\n",
            " [0.20734186]\n",
            " [0.61304873]\n",
            " [0.7179107 ]\n",
            " [0.44575444]\n",
            " [0.1181621 ]\n",
            " [0.28374627]\n",
            " [0.5672455 ]\n",
            " [0.36843282]\n",
            " [0.43920836]\n",
            " [0.58569753]\n",
            " [0.69855547]\n",
            " [0.38942894]\n",
            " [0.3078853 ]\n",
            " [0.56791973]\n",
            " [0.5512025 ]\n",
            " [0.5419798 ]\n",
            " [0.94138193]\n",
            " [0.2954893 ]\n",
            " [0.3853641 ]\n",
            " [0.85622543]\n",
            " [0.40373862]\n",
            " [0.39455828]\n",
            " [0.33869156]\n",
            " [0.7620489 ]\n",
            " [0.39212656]\n",
            " [0.48257002]\n",
            " [0.5523752 ]\n",
            " [0.72865325]\n",
            " [0.374197  ]\n",
            " [0.3266464 ]\n",
            " [0.472116  ]\n",
            " [0.21685813]\n",
            " [0.7675029 ]\n",
            " [0.4506844 ]\n",
            " [0.3630999 ]\n",
            " [0.52813   ]\n",
            " [0.6368087 ]\n",
            " [0.64526665]\n",
            " [0.4707562 ]\n",
            " [0.34042913]\n",
            " [0.314245  ]\n",
            " [0.5031136 ]\n",
            " [0.53054637]\n",
            " [0.50669825]\n",
            " [0.5433045 ]\n",
            " [0.5026159 ]\n",
            " [0.7290197 ]\n",
            " [0.515422  ]\n",
            " [0.7625608 ]\n",
            " [0.55183154]\n",
            " [0.7393654 ]\n",
            " [0.1356971 ]\n",
            " [0.4559002 ]\n",
            " [0.60466284]\n",
            " [0.54118204]\n",
            " [0.4707823 ]\n",
            " [0.6864718 ]\n",
            " [0.47458547]\n",
            " [0.55838037]\n",
            " [0.55247575]\n",
            " [0.82518214]\n",
            " [0.5387313 ]\n",
            " [0.83395934]\n",
            " [0.39452425]\n",
            " [0.62291247]\n",
            " [0.72561014]\n",
            " [0.64233655]\n",
            " [0.7391689 ]\n",
            " [0.45486468]\n",
            " [0.3021453 ]\n",
            " [0.35153687]\n",
            " [0.83251035]\n",
            " [0.26397052]\n",
            " [0.69691986]\n",
            " [0.73654246]\n",
            " [0.5377024 ]\n",
            " [0.40930438]\n",
            " [0.6554077 ]\n",
            " [0.62083125]\n",
            " [0.8975184 ]\n",
            " [0.49310425]\n",
            " [0.45619738]\n",
            " [0.7126569 ]\n",
            " [0.56992567]\n",
            " [0.49628514]\n",
            " [0.50094384]\n",
            " [0.72035927]\n",
            " [0.31969473]\n",
            " [0.30890414]\n",
            " [0.7830718 ]\n",
            " [0.71675044]\n",
            " [0.5302862 ]\n",
            " [0.26619658]\n",
            " [0.6103421 ]\n",
            " [0.3587586 ]\n",
            " [0.7779534 ]\n",
            " [0.19231188]\n",
            " [0.60153216]\n",
            " [0.500504  ]\n",
            " [0.5495957 ]\n",
            " [0.4176453 ]\n",
            " [0.68687725]\n",
            " [0.13203259]\n",
            " [0.4335781 ]\n",
            " [0.44972423]\n",
            " [0.21839699]\n",
            " [0.7974725 ]\n",
            " [0.73324025]\n",
            " [0.3170898 ]\n",
            " [0.53024316]\n",
            " [0.4866687 ]\n",
            " [0.3955626 ]\n",
            " [0.3704    ]]\n"
          ]
        }
      ]
    },
    {
      "cell_type": "code",
      "source": [
        "len(predictions)"
      ],
      "metadata": {
        "colab": {
          "base_uri": "https://localhost:8080/"
        },
        "id": "QHb3pjIMcP0Y",
        "outputId": "deeaa9d1-39aa-49df-9ed6-d027642e5915"
      },
      "execution_count": 15,
      "outputs": [
        {
          "output_type": "execute_result",
          "data": {
            "text/plain": [
              "366"
            ]
          },
          "metadata": {},
          "execution_count": 15
        }
      ]
    },
    {
      "cell_type": "code",
      "source": [
        "from sklearn.metrics import confusion_matrix, classification_report\n",
        "\n",
        "# Assuming you have ground truth labels (true_labels) and predicted labels (predictions)\n",
        "true_labels = test_data.classes\n",
        "predicted_labels = (predictions > 0.5).astype(int)  # Adjust the threshold as needed\n",
        "\n",
        "# Calculate confusion matrix\n",
        "cm = confusion_matrix(true_labels, predicted_labels)\n",
        "\n",
        "# Print confusion matrix\n",
        "print(\"Confusion Matrix:\")\n",
        "print(cm)\n",
        "\n",
        "# Print classification report\n",
        "print(\"Classification Report:\")\n",
        "print(classification_report(true_labels, predicted_labels))"
      ],
      "metadata": {
        "colab": {
          "base_uri": "https://localhost:8080/"
        },
        "id": "4UVlsAcGcTMk",
        "outputId": "0e680f4c-719e-4a26-a103-74073e5df56b"
      },
      "execution_count": 16,
      "outputs": [
        {
          "output_type": "stream",
          "name": "stdout",
          "text": [
            "Confusion Matrix:\n",
            "[[ 86  97]\n",
            " [ 83 100]]\n",
            "Classification Report:\n",
            "              precision    recall  f1-score   support\n",
            "\n",
            "           0       0.51      0.47      0.49       183\n",
            "           1       0.51      0.55      0.53       183\n",
            "\n",
            "    accuracy                           0.51       366\n",
            "   macro avg       0.51      0.51      0.51       366\n",
            "weighted avg       0.51      0.51      0.51       366\n",
            "\n"
          ]
        }
      ]
    }
  ]
}